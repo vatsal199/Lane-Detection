{
 "cells": [
  {
   "cell_type": "code",
   "execution_count": 42,
   "metadata": {},
   "outputs": [],
   "source": [
    "import cv2\n",
    "import numpy as np\n",
    "from matplotlib import pyplot as plt"
   ]
  },
  {
   "cell_type": "code",
   "execution_count": 43,
   "metadata": {},
   "outputs": [],
   "source": [
    "imgName = '2.jpg'\n",
    "\n",
    "name = imgName.split('.')[0]\n",
    "ext = imgName.split('.')[1]\n",
    "outName = name+'_Out.'+ext"
   ]
  },
  {
   "cell_type": "code",
   "execution_count": 44,
   "metadata": {},
   "outputs": [],
   "source": [
    "def printImg(img,inDisplay = False,gray = False):\n",
    "    temp_img = img\n",
    "    #temp_img = cv2.resize(img,(650,300))\n",
    "    if inDisplay:\n",
    "        if gray:\n",
    "            plt.imshow(temp_img,cmap=plt.cm.gray)\n",
    "        else:\n",
    "            plt.imshow(temp_img)\n",
    "        return\n",
    "    cv2.imshow('Output',temp_img)\n",
    "    cv2.waitKey(0)"
   ]
  },
  {
   "cell_type": "code",
   "execution_count": 45,
   "metadata": {},
   "outputs": [],
   "source": [
    "def highlightMask(img,mask):\n",
    "    tempImg = img.copy()\n",
    "    tempMask = mask.copy()\n",
    "    \n",
    "    tempMask = cv2.cvtColor(tempMask, cv2.COLOR_GRAY2BGR)\n",
    "    tempImg[np.where((tempMask==[255,255,255]).all(axis=2))] = [0,255,0]\n",
    "    return tempImg"
   ]
  },
  {
   "cell_type": "code",
   "execution_count": 46,
   "metadata": {},
   "outputs": [
    {
     "name": "stdout",
     "output_type": "stream",
     "text": [
      "(241, 319, 3)\n"
     ]
    }
   ],
   "source": [
    "# It will read image in BGR form\n",
    "# 0 --> Black\n",
    "# 1 --> White\n",
    "img = cv2.imread(imgName)\n",
    "print(img.shape)\n",
    "#printImg(img)"
   ]
  },
  {
   "cell_type": "code",
   "execution_count": 47,
   "metadata": {},
   "outputs": [
    {
     "data": {
      "image/png": "[encoded data removed]",
      "text/plain": [
       "<Figure size 432x288 with 1 Axes>"
      ]
     },
     "metadata": {
      "needs_background": "light"
     },
     "output_type": "display_data"
    }
   ],
   "source": [
    "gray = cv2.cvtColor(img,cv2.COLOR_RGB2GRAY)\n",
    "#print(gray.shape)\n",
    "# Thresholding arguments --> (grayscale image, threshold value, maxVal, type)\n",
    "# ret, thresh = cv2.threshold(gray,250,255,cv2.THRESH_BINARY+cv2.THRESH_OTSU)\n",
    "ret, thresh = cv2.threshold(gray,170,255,cv2.THRESH_BINARY)\n",
    "#print(thresh.shape)\n",
    "printImg(thresh,True,True)"
   ]
  },
  {
   "cell_type": "code",
   "execution_count": 48,
   "metadata": {},
   "outputs": [
    {
     "data": {
      "image/png": "[encoded data removed]",
      "text/plain": [
       "<Figure size 432x288 with 1 Axes>"
      ]
     },
     "metadata": {
      "needs_background": "light"
     },
     "output_type": "display_data"
    }
   ],
   "source": [
    "# Noise Removal\n",
    "kernel = np.ones((3,3),np.uint8)\n",
    "opening = cv2.morphologyEx(thresh,cv2.MORPH_OPEN,kernel, iterations = 1)\n",
    "printImg(opening,True,True)"
   ]
  },
  {
   "cell_type": "code",
   "execution_count": 49,
   "metadata": {},
   "outputs": [
    {
     "data": {
      "image/png": "[encoded data removed]",
      "text/plain": [
       "<Figure size 432x288 with 1 Axes>"
      ]
     },
     "metadata": {
      "needs_background": "light"
     },
     "output_type": "display_data"
    }
   ],
   "source": [
    "# Sure background area\n",
    "sure_bg = cv2.dilate(opening,kernel,iterations=1)\n",
    "printImg(sure_bg,True,True)"
   ]
  },
  {
   "cell_type": "code",
   "execution_count": 53,
   "metadata": {},
   "outputs": [],
   "source": [
    "# Sure foreground area\n",
    "sure_fg = cv2.erode(opening,kernel,iterations=1)\n",
    "#printImg(sure_fg,True,True)\n",
    "\n",
    "# Finding unknown region\n",
    "unknown = cv2.subtract(sure_bg,sure_fg)\n",
    "printImg(unknown)"
   ]
  },
  {
   "cell_type": "code",
   "execution_count": 51,
   "metadata": {},
   "outputs": [
    {
     "data": {
      "text/plain": [
       "True"
      ]
     },
     "execution_count": 51,
     "metadata": {},
     "output_type": "execute_result"
    }
   ],
   "source": [
    "out = highlightMask(img,unknown)\n",
    "cv2.imwrite(outName,out)"
   ]
  }
 ],
 "metadata": {
  "kernelspec": {
   "display_name": "Python 3",
   "language": "python",
   "name": "python3"
  },
  "language_info": {
   "codemirror_mode": {
    "name": "ipython",
    "version": 3
   },
   "file_extension": ".py",
   "mimetype": "text/x-python",
   "name": "python",
   "nbconvert_exporter": "python",
   "pygments_lexer": "ipython3",
   "version": "3.6.9"
  }
 },
 "nbformat": 4,
 "nbformat_minor": 2
}
